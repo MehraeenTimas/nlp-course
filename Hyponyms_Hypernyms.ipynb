{
  "nbformat": 4,
  "nbformat_minor": 0,
  "metadata": {
    "colab": {
      "provenance": [],
      "authorship_tag": "ABX9TyOZWTN0itveNWL44cbZPzgd",
      "include_colab_link": true
    },
    "kernelspec": {
      "name": "python3",
      "display_name": "Python 3"
    },
    "language_info": {
      "name": "python"
    }
  },
  "cells": [
    {
      "cell_type": "markdown",
      "metadata": {
        "id": "view-in-github",
        "colab_type": "text"
      },
      "source": [
        "<a href=\"https://colab.research.google.com/github/MehraeenTimas/nlp-course/blob/main/Hyponyms_Hypernyms.ipynb\" target=\"_parent\"><img src=\"https://colab.research.google.com/assets/colab-badge.svg\" alt=\"Open In Colab\"/></a>"
      ]
    },
    {
      "cell_type": "code",
      "execution_count": null,
      "metadata": {
        "id": "2TkqXAvHQX8g"
      },
      "outputs": [],
      "source": []
    },
    {
      "cell_type": "markdown",
      "metadata": {
        "id": "XYzkGYcdLHQj"
      },
      "source": [
        "## 9. Hyponyms and Hypernyms Exploration\n",
        "\n",
        "Hyponyms and hypernyms are semantic relationships that organize words hierarchically—hyponyms denote more specific terms (e.g., \"poodle\" for \"dog\"), while hypernyms represent more general categories (e.g., \"canine\" for \"dog\"). NLTK’s WordNet is a powerful resource for exploring these relationships. Although spaCy doesn't natively extract hypernyms and hyponyms, you can integrate its NLP capabilities with NLTK’s WordNet for extended lexical analysis."
      ]
    },
    {
      "cell_type": "code",
      "execution_count": null,
      "metadata": {
        "colab": {
          "base_uri": "https://localhost:8080/"
        },
        "id": "t9RMAvhmLMAn",
        "outputId": "d462211d-916f-4df6-a40e-88bb31132885"
      },
      "outputs": [
        {
          "name": "stdout",
          "output_type": "stream",
          "text": [
            "Hypernyms of 'dog': [Synset('canine.n.02'), Synset('domestic_animal.n.01')]\n",
            "Hyponyms of 'dog': [Synset('basenji.n.01'), Synset('great_pyrenees.n.01'), Synset('working_dog.n.01'), Synset('poodle.n.01'), Synset('toy_dog.n.01'), Synset('mexican_hairless.n.01'), Synset('puppy.n.01'), Synset('hunting_dog.n.01'), Synset('newfoundland.n.01'), Synset('corgi.n.01'), Synset('griffon.n.02'), Synset('dalmatian.n.02'), Synset('leonberg.n.01'), Synset('cur.n.01'), Synset('pooch.n.01'), Synset('pug.n.01'), Synset('lapdog.n.01'), Synset('spitz.n.01')]\n"
          ]
        }
      ],
      "source": [
        "# NLTK WordNet Example\n",
        "\n",
        "from nltk.corpus import wordnet as wn\n",
        "\n",
        "# Choose a synset for the word 'dog'\n",
        "dog_synset = wn.synset('dog.n.01')\n",
        "\n",
        "# Retrieve hypernyms (more general terms)\n",
        "hypernyms = dog_synset.hypernyms()\n",
        "print(\"Hypernyms of 'dog':\", hypernyms)\n",
        "\n",
        "# Retrieve hyponyms (more specific terms)\n",
        "hyponyms = dog_synset.hyponyms()\n",
        "print(\"Hyponyms of 'dog':\", hyponyms)\n"
      ]
    },
    {
      "cell_type": "code",
      "execution_count": null,
      "metadata": {
        "colab": {
          "base_uri": "https://localhost:8080/"
        },
        "id": "ByrSkJO6LMXa",
        "outputId": "7ced143e-7df8-41b3-a5fa-023bce1a3687"
      },
      "outputs": [
        {
          "name": "stdout",
          "output_type": "stream",
          "text": [
            "Token: dog\n",
            "Hypernyms: [Synset('canine.n.02'), Synset('domestic_animal.n.01')]\n",
            "Hyponyms: [Synset('basenji.n.01'), Synset('great_pyrenees.n.01'), Synset('working_dog.n.01'), Synset('poodle.n.01'), Synset('toy_dog.n.01'), Synset('mexican_hairless.n.01'), Synset('puppy.n.01'), Synset('hunting_dog.n.01'), Synset('newfoundland.n.01'), Synset('corgi.n.01'), Synset('griffon.n.02'), Synset('dalmatian.n.02'), Synset('leonberg.n.01'), Synset('cur.n.01'), Synset('pooch.n.01'), Synset('pug.n.01'), Synset('lapdog.n.01'), Synset('spitz.n.01')]\n"
          ]
        }
      ],
      "source": [
        "# Integrating spaCy with NLTK for Lexical Exploration\n",
        "\n",
        "from nltk.corpus import wordnet as wn\n",
        "\n",
        "# Load spaCy's small English model\n",
        "nlp = spacy.load(\"en_core_web_sm\")\n",
        "doc = nlp(\"The dog barked at the mailman.\")\n",
        "\n",
        "# Find the token 'dog' and explore its lexical relationships using NLTK's WordNet\n",
        "for token in doc:\n",
        "    if token.text.lower() == 'dog':\n",
        "        synsets = wn.synsets(token.text, pos=wn.NOUN)\n",
        "        if synsets:\n",
        "            synset = synsets[0]\n",
        "            hypernyms = synset.hypernyms()\n",
        "            hyponyms = synset.hyponyms()\n",
        "            print(f\"Token: {token.text}\")\n",
        "            print(\"Hypernyms:\", hypernyms)\n",
        "            print(\"Hyponyms:\", hyponyms)\n"
      ]
    }
  ]
}