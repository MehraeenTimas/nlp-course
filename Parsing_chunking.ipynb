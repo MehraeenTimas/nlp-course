{
  "nbformat": 4,
  "nbformat_minor": 0,
  "metadata": {
    "colab": {
      "provenance": [],
      "authorship_tag": "ABX9TyMy854egqpV93TjN1un9l9b",
      "include_colab_link": true
    },
    "kernelspec": {
      "name": "python3",
      "display_name": "Python 3"
    },
    "language_info": {
      "name": "python"
    }
  },
  "cells": [
    {
      "cell_type": "markdown",
      "metadata": {
        "id": "view-in-github",
        "colab_type": "text"
      },
      "source": [
        "<a href=\"https://colab.research.google.com/github/MehraeenTimas/nlp-course/blob/main/Parsing_chunking.ipynb\" target=\"_parent\"><img src=\"https://colab.research.google.com/assets/colab-badge.svg\" alt=\"Open In Colab\"/></a>"
      ]
    },
    {
      "cell_type": "code",
      "execution_count": null,
      "metadata": {
        "id": "jbzwYXEkP4En"
      },
      "outputs": [],
      "source": []
    },
    {
      "cell_type": "markdown",
      "metadata": {
        "id": "FF0w487YK6Lu"
      },
      "source": [
        "## 8. Parsing and Chunking\n",
        "\n",
        "Parsing involves analyzing a sentence's grammatical structure, while chunking groups tokens into higher-level units like noun phrases. NLTK employs rule-based parsers for chunking, and spaCy utilizes statistical models to identify syntactic dependencies and extract phrase chunks."
      ]
    },
    {
      "cell_type": "code",
      "execution_count": null,
      "metadata": {
        "colab": {
          "base_uri": "https://localhost:8080/"
        },
        "id": "Ly3n8Ivgch5a",
        "outputId": "08e441cf-e0f6-4167-8d2e-23d4f2dc9e25"
      },
      "outputs": [
        {
          "name": "stdout",
          "output_type": "stream",
          "text": [
            "                                S                                          \n",
            "     ___________________________|_______________________________            \n",
            "    |        |     |            NP               NP             NP         \n",
            "    |        |     |     _______|________        |       _______|______     \n",
            "jumps/VBZ over/IN ./. The/DT quick/JJ brown/NN fox/NN the/DT lazy/JJ dog/NN\n",
            "\n"
          ]
        }
      ],
      "source": [
        "# NLTK Parsing and Chunking Example\n",
        "# Tokenize and tag parts of speech\n",
        "text = \"The quick brown fox jumps over the lazy dog.\"\n",
        "tokens = nltk.word_tokenize(text)\n",
        "tagged_tokens = nltk.pos_tag(tokens)\n",
        "\n",
        "# Define a simple chunk grammar for noun phrases (NP)\n",
        "grammar = \"NP: {<DT>?<JJ>*<NN>}\"\n",
        "\n",
        "# Create a RegexpParser object and parse the tagged tokens\n",
        "cp = nltk.RegexpParser(grammar)\n",
        "parsed_tree = cp.parse(tagged_tokens)\n",
        "\n",
        "print(\"NLTK Parsed Tree:\")\n",
        "print(parsed_tree)\n",
        "# Uncomment the line below to visualize the tree (requires GUI support)\n",
        "parsed_tree.pretty_print()\n"
      ]
    },
    {
      "cell_type": "code",
      "execution_count": null,
      "metadata": {
        "colab": {
          "base_uri": "https://localhost:8080/"
        },
        "id": "xZtiTHNKc6mx",
        "outputId": "a0bf0e9d-0f3e-4ee1-8138-ef04fd2bea5a"
      },
      "outputs": [
        {
          "name": "stdout",
          "output_type": "stream",
          "text": [
            "spaCy Noun Chunks:\n",
            "The striped bats\n",
            "their feet\n"
          ]
        }
      ],
      "source": [
        "# Extract and print noun chunks using spaCy's built-in functionality\n",
        "print(\"spaCy Noun Chunks:\")\n",
        "for chunk in doc.noun_chunks:\n",
        "    print(chunk.text)\n"
      ]
    }
  ]
}