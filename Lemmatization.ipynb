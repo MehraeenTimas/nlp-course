{
  "nbformat": 4,
  "nbformat_minor": 0,
  "metadata": {
    "colab": {
      "provenance": [],
      "authorship_tag": "ABX9TyPsSTyYV8DrlP3AJhbV3qzH",
      "include_colab_link": true
    },
    "kernelspec": {
      "name": "python3",
      "display_name": "Python 3"
    },
    "language_info": {
      "name": "python"
    }
  },
  "cells": [
    {
      "cell_type": "markdown",
      "metadata": {
        "id": "view-in-github",
        "colab_type": "text"
      },
      "source": [
        "<a href=\"https://colab.research.google.com/github/MehraeenTimas/nlp-course/blob/main/Lemmatization.ipynb\" target=\"_parent\"><img src=\"https://colab.research.google.com/assets/colab-badge.svg\" alt=\"Open In Colab\"/></a>"
      ]
    },
    {
      "cell_type": "code",
      "execution_count": null,
      "metadata": {
        "id": "JfKmcTimPS7h"
      },
      "outputs": [],
      "source": []
    },
    {
      "cell_type": "markdown",
      "metadata": {
        "id": "seF8VOaBK_Gb"
      },
      "source": [
        "## 7. Lemmatization Strategies\n",
        "\n",
        "Lemmatization converts words into their base or dictionary forms by analyzing their context and morphology, resulting in more meaningful representations than simple stemming. NLTK uses the WordNetLemmatizer with the WordNet database, while spaCy provides built-in lemmatization integrated within its processing pipeline."
      ]
    },
    {
      "cell_type": "code",
      "execution_count": null,
      "metadata": {
        "colab": {
          "base_uri": "https://localhost:8080/"
        },
        "id": "C7Z7aRYQLM0m",
        "outputId": "7383c9d8-df52-41c3-f3bc-9dab5367f0c6"
      },
      "outputs": [
        {
          "name": "stdout",
          "output_type": "stream",
          "text": [
            "NLTK Lemmatized Words: ['The', 'striped', 'bat', 'are', 'hanging', 'on', 'their', 'foot', 'for', 'best']\n"
          ]
        }
      ],
      "source": [
        "# NLTK Lemmatization Example\n",
        "from nltk.stem import WordNetLemmatizer\n",
        "\n",
        "lemmatizer = WordNetLemmatizer()\n",
        "text = \"The striped bats are hanging on their feet for best\"\n",
        "words = nltk.word_tokenize(text)\n",
        "lemmatized_words = [lemmatizer.lemmatize(word) for word in words]\n",
        "print(\"NLTK Lemmatized Words:\", lemmatized_words)\n"
      ]
    },
    {
      "cell_type": "code",
      "execution_count": null,
      "metadata": {
        "colab": {
          "base_uri": "https://localhost:8080/"
        },
        "id": "c69wk-IALHD5",
        "outputId": "dc8fae10-461c-4f24-ace9-93fac481c334"
      },
      "outputs": [
        {
          "name": "stdout",
          "output_type": "stream",
          "text": [
            "spaCy Lemmatized Tokens: ['the', 'stripe', 'bat', 'be', 'hang', 'on', 'their', 'foot', 'for', 'good']\n"
          ]
        }
      ],
      "source": [
        "text = \"The striped bats are hanging on their feet for best\"\n",
        "doc = nlp(text)\n",
        "lemmatized_tokens = [token.lemma_ for token in doc]\n",
        "print(\"spaCy Lemmatized Tokens:\", lemmatized_tokens)\n"
      ]
    }
  ]
}